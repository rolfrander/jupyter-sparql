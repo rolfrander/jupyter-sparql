{
 "cells": [
  {
   "cell_type": "code",
   "execution_count": 9,
   "id": "34798273-26b0-4553-b640-7896ae9a864b",
   "metadata": {},
   "outputs": [
    {
     "data": {
      "text/html": [
       "<div class=\"krn-spql\"><div class=\"magic\">Endpoint set to: http://sparqlapi:3030/ds</div><div class=\"magic\">Request format: ANY</div><div class=\"magic\">Display: table</div></div>"
      ],
      "text/plain": [
       "Endpoint set to: http://sparqlapi:3030/ds\n",
       "Request format: ANY\n",
       "Display: table\n"
      ]
     },
     "metadata": {},
     "output_type": "display_data"
    }
   ],
   "source": [
    "%endpoint http://sparqlapi:3030/ds\n",
    "# %endpoint https://query.wikidata.org/bigdata/namespace/wdq/sparql\n",
    "%format any\n",
    "%display table"
   ]
  },
  {
   "cell_type": "markdown",
   "id": "86ca6e79-5c83-4c5b-ac50-919c4d66da73",
   "metadata": {},
   "source": [
    "# Wikipedia-eksempel"
   ]
  },
  {
   "cell_type": "code",
   "execution_count": 10,
   "id": "c309d637-77e7-4d1d-95c6-1b811db9bbe7",
   "metadata": {},
   "outputs": [
    {
     "data": {
      "text/html": [
       "<div class=\"krn-spql\"><div class=\"krn-error\"><span class=\"title\">Error:</span> SPARQL error: QueryBadFormed: a bad request has been sent to the endpoint, probably the sparql query is bad formed. <br/><br/>Response:<br/>b'Parse error: Line 4, column 10: Unresolved prefixed name: wdt:P31\\n'</div></div>"
      ],
      "text/plain": [
       "Error: SPARQL error: QueryBadFormed: a bad request has been sent to the endpoint, probably the sparql query is bad formed. \n",
       "\n",
       "Response:\n",
       "b'Parse error: Line 4, column 10: Unresolved prefixed name: wdt:P31\\n'"
      ]
     },
     "metadata": {},
     "output_type": "display_data"
    }
   ],
   "source": [
    "SELECT ?human ?humanLabel\n",
    "WHERE\n",
    "{\n",
    "  ?human wdt:P31 wd:Q5 .       #find humans\n",
    "  ?human rdf:type wdno:P40 .   #with at least one truthy P40 (child) statement defined to be \"no value\"\n",
    "  SERVICE wikibase:label { bd:serviceParam wikibase:language \"[AUTO_LANGUAGE],en\" }\n",
    "}"
   ]
  },
  {
   "cell_type": "markdown",
   "id": "ca683cb5-2107-445a-95aa-1b58a898029a",
   "metadata": {},
   "source": [
    "# insert data"
   ]
  },
  {
   "cell_type": "code",
   "execution_count": 12,
   "id": "bc458c5c-7ba5-4e41-9a96-bf19d403b234",
   "metadata": {},
   "outputs": [
    {
     "data": {
      "text/html": [
       "<html>\n",
       "<head>\n",
       "</head>\n",
       "<body>\n",
       "<h1>Success</h1>\n",
       "<p>\n",
       "Update succeeded\n",
       "</p>\n",
       "</body>\n",
       "</html>\n"
      ]
     },
     "metadata": {},
     "output_type": "display_data"
    }
   ],
   "source": [
    "INSERT DATA { GRAPH <metadata> {\n",
    "    <http://dataset/123> <owner> \"foo\".\n",
    "    <http://dataset/123> <uploader> \"bar\".\n",
    "    <http://dataset/345> <owner> \"blah\".\n",
    "    }\n",
    "}"
   ]
  },
  {
   "cell_type": "code",
   "execution_count": 14,
   "id": "97a1adcb-4b34-4db3-933f-1e79a2a63782",
   "metadata": {},
   "outputs": [
    {
     "data": {
      "text/html": [
       "<div class=\"krn-spql\"><table><tr class=hdr><th>owner</th></tr><tr class=odd><td class=val>blah</td></tr><tr class=even><td class=val>foo</td></tr></table><div class=\"tinfo\">Total: 2, Shown: 2</div></div>"
      ]
     },
     "metadata": {},
     "output_type": "display_data"
    }
   ],
   "source": [
    "SELECT ?owner\n",
    "FROM <metadata>\n",
    "WHERE {\n",
    "    ?dataset <owner> ?owner\n",
    "}\n"
   ]
  }
 ],
 "metadata": {
  "kernelspec": {
   "display_name": "SPARQL",
   "language": "sparql",
   "name": "sparql"
  },
  "language_info": {
   "codemirror_mode": {
    "name": "sparql"
   },
   "mimetype": "application/sparql-query",
   "name": "sparql",
   "pygments_lexer": "sparql-nb"
  }
 },
 "nbformat": 4,
 "nbformat_minor": 5
}
